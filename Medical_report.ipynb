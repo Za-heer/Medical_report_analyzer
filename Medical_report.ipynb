{
 "cells": [
  {
   "cell_type": "code",
   "execution_count": null,
   "id": "8b9da3a6",
   "metadata": {},
   "outputs": [],
   "source": [
    "%pip install opencv-python pytesseract streamlit requests pdf2image"
   ]
  },
  {
   "cell_type": "code",
   "execution_count": null,
   "id": "513bf17b",
   "metadata": {},
   "outputs": [],
   "source": [
    "# import cv2\n",
    "# import streamlit as st\n",
    "# import pytesseract\n",
    "# import re\n",
    "# import requests\n",
    "# import numpy as np\n",
    "# from pdf2image import convert_from_bytes\n",
    "\n",
    "# def preprocess_image(image):\n",
    "#     gray = cv2.cvtColor(image, cv2.COLOR_BGR2GRAY)\n",
    "#     blurred = cv2.GaussianBlur(gray, (5, 5), 0)\n",
    "#     _, binary = cv2.threshold(blurred, 0, 255, cv2.THRESH_BINARY + cv2.THRESH_OTSU)\n",
    "#     return binary\n",
    "\n",
    "# def extract_text(image):\n",
    "#     return pytesseract.image_to_string(image)\n",
    "\n",
    "# def structure_text(text):\n",
    "#     pattern = r\"(\\w+(?:\\s+\\w+)?)\\s+([\\d\\.]+)\\s+(\\w+(?:/\\w+)?)\\s+\\(([\\d\\.\\-]+[\\d\\.]+)\\)\"\n",
    "#     matches = re.findall(pattern, text)\n",
    "#     structured_data = []\n",
    "#     for match in matches:\n",
    "#         test_name, value, unit, range_str = match\n",
    "#         value = float(value)\n",
    "#         range_min, range_max = map(float, range_str.split(\"-\"))\n",
    "#         status = \"Normal\" if range_min <= value <= range_max else \"Abnormal\"\n",
    "#         structured_data.append({\n",
    "#             \"test\": test_name,\n",
    "#             \"value\": value,\n",
    "#             \"range\": range_str,\n",
    "#             \"unit\": unit,\n",
    "#             \"status\": status\n",
    "#         })\n",
    "#     return structured_data\n",
    "\n",
    "# def explain_result(test_data, api_key):\n",
    "#     abnormal_tests = [t for t in test_data if t[\"status\"] == \"Abnormal\"]\n",
    "#     explanations = {}\n",
    "#     for test in abnormal_tests:\n",
    "#         prompt = f\"Explain in simple language what it means if the patient's {test['test']} is {test['value']} {test['unit']}, given the normal range is {test['range']}.\"\n",
    "#         response = requests.post(\n",
    "#             \"https://api.openai.com/v1/chat/completions\",\n",
    "#             headers={\n",
    "#                 \"Authorization\": f\"Bearer {api_key}\",\n",
    "#                 \"Content-Type\": \"application/json\"\n",
    "#             },\n",
    "#             json={\n",
    "#                 \"model\": \"gpt-3.5-turbo\",\n",
    "#                 \"messages\": [{\"role\": \"user\", \"content\": prompt}],\n",
    "#                 \"max_tokens\": 100\n",
    "#             }\n",
    "#         )\n",
    "#         explanations[test[\"test\"]] = response.json()[\"choices\"][0][\"message\"][\"content\"]\n",
    "#     return explanations\n",
    "\n",
    "\n",
    "# st.title(\"Medical Report Assistant\")\n",
    "# uploaded_file = st.file_uploader(\"Upload a medical report (JPEG/PNG/PDF)\", type=[\"jpg\", \"png\", \"pdf\"])\n",
    "\n",
    "# if uploaded_file:\n",
    "#     if uploaded_file.type == \"application/pdf\":\n",
    "#         images = convert_from_bytes(uploaded_file.read())\n",
    "#         image = cv2.cvtColor(np.array(images[0]), cv2.COLOR_RGB2BGR)\n",
    "#     else:\n",
    "#         image = cv2.imdecode(np.frombuffer(uploaded_file.read(), np.uint8), cv2.IMREAD_COLOR)\n",
    "    \n",
    "#     processed_image = preprocess_image(image)\n",
    "#     raw_text = extract_text(processed_image)\n",
    "#     data = structure_text(raw_text)\n",
    "#     explanations = explain_result(data, \"your-openai-api-key\")\n",
    "    \n",
    "#     st.subheader(\"Test Results\")\n",
    "#     for test in data:\n",
    "#         st.write(f\"**{test['test']}**: {test['value']} {test['unit']} (Range: {test['range']}) - {test['status']}\")\n",
    "#         if test[\"test\"] in explanations:\n",
    "#             with st.expander(\"Explanation\"):\n",
    "#                 st.write(explanations[test[\"test\"]])\n",
    "    \n",
    "#     st.write(\"**Note**: This tool is for informational purposes only. Consult a doctor for medical advice.\")"
   ]
  },
  {
   "cell_type": "code",
   "execution_count": 15,
   "id": "f434a0c6",
   "metadata": {},
   "outputs": [
    {
     "name": "stderr",
     "output_type": "stream",
     "text": [
      "2025-05-25 00:50:04.353 Thread 'MainThread': missing ScriptRunContext! This warning can be ignored when running in bare mode.\n",
      "2025-05-25 00:50:04.361 Thread 'MainThread': missing ScriptRunContext! This warning can be ignored when running in bare mode.\n",
      "2025-05-25 00:50:04.361 Thread 'MainThread': missing ScriptRunContext! This warning can be ignored when running in bare mode.\n",
      "2025-05-25 00:50:04.361 Thread 'MainThread': missing ScriptRunContext! This warning can be ignored when running in bare mode.\n",
      "2025-05-25 00:50:04.361 Thread 'MainThread': missing ScriptRunContext! This warning can be ignored when running in bare mode.\n",
      "2025-05-25 00:50:04.361 Thread 'MainThread': missing ScriptRunContext! This warning can be ignored when running in bare mode.\n",
      "2025-05-25 00:50:04.361 Thread 'MainThread': missing ScriptRunContext! This warning can be ignored when running in bare mode.\n",
      "2025-05-25 00:50:04.368 Thread 'MainThread': missing ScriptRunContext! This warning can be ignored when running in bare mode.\n",
      "2025-05-25 00:50:04.368 Thread 'MainThread': missing ScriptRunContext! This warning can be ignored when running in bare mode.\n"
     ]
    }
   ],
   "source": [
    "import streamlit as st\n",
    "\n",
    "st.title(\"Hello Streamlit\")\n",
    "st.write(\"Upload something to test the app.\")\n",
    "uploaded_file = st.file_uploader(\"Upload file\")\n",
    "if uploaded_file:\n",
    "    st.success(\"File uploaded!\")\n"
   ]
  },
  {
   "cell_type": "code",
   "execution_count": 17,
   "id": "c75a83d1",
   "metadata": {},
   "outputs": [
    {
     "name": "stdout",
     "output_type": "stream",
     "text": [
      "5.5.0.20241111\n"
     ]
    }
   ],
   "source": [
    "import pytesseract\n",
    "\n",
    "# Manually set the path to tesseract.exe\n",
    "pytesseract.pytesseract.tesseract_cmd = r'C:\\Program Files\\Tesseract-OCR\\tesseract.exe'\n",
    "\n",
    "# Now try getting version\n",
    "print(pytesseract.get_tesseract_version())\n"
   ]
  },
  {
   "cell_type": "code",
   "execution_count": null,
   "id": "c00b4b9b",
   "metadata": {},
   "outputs": [],
   "source": []
  }
 ],
 "metadata": {
  "kernelspec": {
   "display_name": ".venv",
   "language": "python",
   "name": "python3"
  },
  "language_info": {
   "codemirror_mode": {
    "name": "ipython",
    "version": 3
   },
   "file_extension": ".py",
   "mimetype": "text/x-python",
   "name": "python",
   "nbconvert_exporter": "python",
   "pygments_lexer": "ipython3",
   "version": "3.12.0"
  }
 },
 "nbformat": 4,
 "nbformat_minor": 5
}
